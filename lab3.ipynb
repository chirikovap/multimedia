{
  "cells": [
    {
      "cell_type": "markdown",
      "id": "6b936d2a",
      "metadata": {
        "id": "6b936d2a"
      },
      "source": [
        "# Лабораторная работа: Решение задач с использованием деревьев решений"
      ]
    },
    {
      "cell_type": "markdown",
      "source": [
        "Выполнила: Чирикова Полина, М8О-401Б-21"
      ],
      "metadata": {
        "id": "8TQCPDjRu0-3"
      },
      "id": "8TQCPDjRu0-3"
    },
    {
      "cell_type": "markdown",
      "id": "12f54626",
      "metadata": {
        "id": "12f54626"
      },
      "source": [
        "## Импорт библиотек"
      ]
    },
    {
      "cell_type": "code",
      "execution_count": 1,
      "id": "cff8c580",
      "metadata": {
        "id": "cff8c580"
      },
      "outputs": [],
      "source": [
        "import pandas as pd\n",
        "import numpy as np\n",
        "import matplotlib.pyplot as plt\n",
        "import seaborn as sns\n",
        "\n",
        "from sklearn.model_selection import train_test_split, GridSearchCV\n",
        "from sklearn.tree import DecisionTreeClassifier, DecisionTreeRegressor\n",
        "from sklearn.metrics import classification_report, mean_squared_error, r2_score\n"
      ]
    },
    {
      "cell_type": "markdown",
      "id": "c6c8208a",
      "metadata": {
        "id": "c6c8208a"
      },
      "source": [
        "## Загрузка и обработка данных"
      ]
    },
    {
      "cell_type": "markdown",
      "source": [
        "Я начала с загрузки данных для анализа. В данных о пингвинах в датасете есть пропущенные значения и категориальные признаки. Поэтому сначала удалила пропущенные строки, чтобы избежать ошибок в моделях, а затем закодировала строковые значения в числовой формат с помощью LabelEncoder\n",
        "\n",
        "Я разделила данные на обучающую и тестовую выборки с помощью функции train_test_split, модель классификации обучала с использованием решающего дерева (DecisionTreeClassifier), она не требует много предварительной обработки и может быть обучена быстро. Решающие деревья хорошо интерпретируемы и подходят для начального анализа данных."
      ],
      "metadata": {
        "id": "2FfP_gITqjl9"
      },
      "id": "2FfP_gITqjl9"
    },
    {
      "cell_type": "markdown",
      "id": "0ceedd98",
      "metadata": {
        "id": "0ceedd98"
      },
      "source": [
        "### Датасет для классификации: Heart Disease"
      ]
    },
    {
      "cell_type": "code",
      "execution_count": 2,
      "id": "829062c8",
      "metadata": {
        "id": "829062c8"
      },
      "outputs": [],
      "source": [
        "url_classification = \"https://archive.ics.uci.edu/ml/machine-learning-databases/heart-disease/processed.cleveland.data\"\n",
        "column_names = ['age', 'sex', 'cp', 'trestbps', 'chol', 'fbs', 'restecg', 'thalach', 'exang',\n",
        "                'oldpeak', 'slope', 'ca', 'thal', 'target']\n",
        "\n",
        "df_classification = pd.read_csv(url_classification, header=None, names=column_names)\n",
        "df_classification.replace('?', np.nan, inplace=True)\n",
        "df_classification.dropna(inplace=True)\n",
        "\n",
        "df_classification = df_classification.astype(float)\n",
        "\n",
        "df_classification['target'] = (df_classification['target'] > 0).astype(int)\n",
        "\n",
        "X_class = df_classification.drop('target', axis=1)\n",
        "y_class = df_classification['target']\n",
        "\n",
        "X_class_train, X_class_test, y_class_train, y_class_test = train_test_split(X_class, y_class, test_size=0.3, random_state=42)\n"
      ]
    },
    {
      "cell_type": "markdown",
      "id": "e9aef96a",
      "metadata": {
        "id": "e9aef96a"
      },
      "source": [
        "### Датасет для регрессии: Concrete Compressive Strength"
      ]
    },
    {
      "cell_type": "code",
      "execution_count": 3,
      "id": "2339ad73",
      "metadata": {
        "id": "2339ad73"
      },
      "outputs": [],
      "source": [
        "url_regression = \"https://archive.ics.uci.edu/ml/machine-learning-databases/concrete/compressive/Concrete_Data.xls\"\n",
        "df_regression = pd.read_excel(url_regression)\n",
        "\n",
        "X_reg = df_regression.drop('Concrete compressive strength(MPa, megapascals) ', axis=1)\n",
        "y_reg = df_regression['Concrete compressive strength(MPa, megapascals) ']\n",
        "\n",
        "# разделение на обучающую и тестовую выборки\n",
        "X_reg_train, X_reg_test, y_reg_train, y_reg_test = train_test_split(X_reg, y_reg, test_size=0.3, random_state=42)\n"
      ]
    },
    {
      "cell_type": "markdown",
      "id": "ab2044ca",
      "metadata": {
        "id": "ab2044ca"
      },
      "source": [
        "## Создание бейзлайна и оценка качества"
      ]
    },
    {
      "cell_type": "markdown",
      "source": [
        "Для создания бейзлайна я выбрала модели из библиотеки sklearn.\n",
        "\n",
        "Для классификации:\n",
        "Я использовала решающее дерево (DecisionTreeClassifier).\n",
        "Сначала разделила данные на обучающую и тестовую выборки.\n",
        "Далее оценила модель с помощью метрик accuracy, precision, recall, и f1-score. Эти метрики дают общую картину качества классификации.\n",
        "Для регрессии:\n",
        "Для регрессии я использовала модель DecisionTreeRegressor, которая предсказывает числовые значения.\n",
        "Также разделила данные на обучающую и тестовую выборки.\n",
        "Оценила модель с использованием метрик Mean Squared Error (MSE) и R^2 score. Эти метрики показывают, насколько близки предсказания модели к реальным значениям."
      ],
      "metadata": {
        "id": "N5SCBkXquLQA"
      },
      "id": "N5SCBkXquLQA"
    },
    {
      "cell_type": "markdown",
      "id": "891dd948",
      "metadata": {
        "id": "891dd948"
      },
      "source": [
        "### Классификация"
      ]
    },
    {
      "cell_type": "code",
      "execution_count": 4,
      "id": "76465904",
      "metadata": {
        "colab": {
          "base_uri": "https://localhost:8080/"
        },
        "id": "76465904",
        "outputId": "1ff55a91-3ce7-4c90-bbc7-df05a62d372f"
      },
      "outputs": [
        {
          "output_type": "stream",
          "name": "stdout",
          "text": [
            "Классификационные метрики:\n",
            "              precision    recall  f1-score   support\n",
            "\n",
            "           0       0.74      0.65      0.70        49\n",
            "           1       0.64      0.73      0.68        41\n",
            "\n",
            "    accuracy                           0.69        90\n",
            "   macro avg       0.69      0.69      0.69        90\n",
            "weighted avg       0.70      0.69      0.69        90\n",
            "\n"
          ]
        }
      ],
      "source": [
        "clf = DecisionTreeClassifier(random_state=42)\n",
        "clf.fit(X_class_train, y_class_train)\n",
        "\n",
        "y_class_pred = clf.predict(X_class_test)\n",
        "print(\"Классификационные метрики:\")\n",
        "print(classification_report(y_class_test, y_class_pred))\n"
      ]
    },
    {
      "cell_type": "markdown",
      "id": "5906f862",
      "metadata": {
        "id": "5906f862"
      },
      "source": [
        "### Регрессия"
      ]
    },
    {
      "cell_type": "code",
      "execution_count": 5,
      "id": "98ef275c",
      "metadata": {
        "colab": {
          "base_uri": "https://localhost:8080/"
        },
        "id": "98ef275c",
        "outputId": "17aff45f-772d-41ac-c7c9-c22b2821e254"
      },
      "outputs": [
        {
          "output_type": "stream",
          "name": "stdout",
          "text": [
            "Метрики регрессии:\n",
            "Mean Squared Error: 42.55\n",
            "R2 Score: 0.84\n"
          ]
        }
      ],
      "source": [
        "reg = DecisionTreeRegressor(random_state=42)\n",
        "reg.fit(X_reg_train, y_reg_train)\n",
        "\n",
        "y_reg_pred = reg.predict(X_reg_test)\n",
        "print(\"Метрики регрессии:\")\n",
        "print(f\"Mean Squared Error: {mean_squared_error(y_reg_test, y_reg_pred):.2f}\")\n",
        "print(f\"R2 Score: {r2_score(y_reg_test, y_reg_pred):.2f}\")\n"
      ]
    },
    {
      "cell_type": "markdown",
      "id": "61a0b023",
      "metadata": {
        "id": "61a0b023"
      },
      "source": [
        "## Улучшение бейзлайна"
      ]
    },
    {
      "cell_type": "markdown",
      "source": [
        "Качество модели можно оценитьс помощью метрик, таких как accuracy, precision, recall и f1-score\n",
        "\n",
        "Нормализация или стандартизация данных может улучшить производительность модели.\n",
        "Подбор оптимальной глубины дерева с использованием кросс-валидации может предотвратить переобучение."
      ],
      "metadata": {
        "id": "81iTucr_s6e9"
      },
      "id": "81iTucr_s6e9"
    },
    {
      "cell_type": "code",
      "execution_count": 6,
      "id": "fbba95a7",
      "metadata": {
        "colab": {
          "base_uri": "https://localhost:8080/"
        },
        "id": "fbba95a7",
        "outputId": "433f2ae1-1059-42a2-e3be-8fb44d1e88df"
      },
      "outputs": [
        {
          "output_type": "stream",
          "name": "stdout",
          "text": [
            "Лучшие параметры для классификации: {'max_depth': 3, 'min_samples_split': 2}\n",
            "              precision    recall  f1-score   support\n",
            "\n",
            "           0       0.75      0.80      0.77        49\n",
            "           1       0.74      0.68      0.71        41\n",
            "\n",
            "    accuracy                           0.74        90\n",
            "   macro avg       0.74      0.74      0.74        90\n",
            "weighted avg       0.74      0.74      0.74        90\n",
            "\n",
            "Лучшие параметры для регрессии: {'max_depth': 10, 'min_samples_split': 5}\n",
            "Mean Squared Error (лучший бейзлайн): 45.63\n",
            "R2 Score (лучший бейзлайн): 0.83\n"
          ]
        }
      ],
      "source": [
        "param_grid_clf = {'max_depth': [3, 5, 10, None], 'min_samples_split': [2, 5, 10]}\n",
        "grid_clf = GridSearchCV(DecisionTreeClassifier(random_state=42), param_grid_clf, cv=5)\n",
        "grid_clf.fit(X_class_train, y_class_train)\n",
        "\n",
        "print(\"Лучшие параметры для классификации:\", grid_clf.best_params_)\n",
        "best_clf = grid_clf.best_estimator_\n",
        "y_class_pred_best = best_clf.predict(X_class_test)\n",
        "print(classification_report(y_class_test, y_class_pred_best))\n",
        "\n",
        "param_grid_reg = {'max_depth': [3, 5, 10, None], 'min_samples_split': [2, 5, 10]}\n",
        "grid_reg = GridSearchCV(DecisionTreeRegressor(random_state=42), param_grid_reg, cv=5)\n",
        "grid_reg.fit(X_reg_train, y_reg_train)\n",
        "\n",
        "print(\"Лучшие параметры для регрессии:\", grid_reg.best_params_)\n",
        "best_reg = grid_reg.best_estimator_\n",
        "y_reg_pred_best = best_reg.predict(X_reg_test)\n",
        "print(f\"Mean Squared Error (лучший бейзлайн): {mean_squared_error(y_reg_test, y_reg_pred_best):.2f}\")\n",
        "print(f\"R2 Score (лучший бейзлайн): {r2_score(y_reg_test, y_reg_pred_best):.2f}\")\n"
      ]
    },
    {
      "cell_type": "markdown",
      "id": "0b8efdb0",
      "metadata": {
        "id": "0b8efdb0"
      },
      "source": [
        "## Имплементация дерева решений"
      ]
    },
    {
      "cell_type": "markdown",
      "source": [
        "Я реализовала собственный алгоритм решающего дерева, чтобы лучше понять, как работает этот метод. Это включало создание дерева с разделением данных по критерию Gini Impurity или Information Gain. После этого я обучила свою реализацию на данных и сравнила её производительность с моделью из sklearn"
      ],
      "metadata": {
        "id": "qwy-VuHmstLX"
      },
      "id": "qwy-VuHmstLX"
    },
    {
      "cell_type": "code",
      "execution_count": 10,
      "id": "b0eb76fc",
      "metadata": {
        "colab": {
          "base_uri": "https://localhost:8080/"
        },
        "id": "b0eb76fc",
        "outputId": "256b4e1b-1195-4729-895c-df4d4bdab83d"
      },
      "outputs": [
        {
          "output_type": "stream",
          "name": "stdout",
          "text": [
            "Метрики классификации (пингвины):\n",
            "              precision    recall  f1-score   support\n",
            "\n",
            "           0       1.00      1.00      1.00        31\n",
            "           1       1.00      1.00      1.00        13\n",
            "           2       1.00      1.00      1.00        23\n",
            "\n",
            "    accuracy                           1.00        67\n",
            "   macro avg       1.00      1.00      1.00        67\n",
            "weighted avg       1.00      1.00      1.00        67\n",
            "\n"
          ]
        }
      ],
      "source": [
        "import pandas as pd\n",
        "import numpy as np\n",
        "from sklearn.model_selection import train_test_split\n",
        "from sklearn.tree import DecisionTreeClassifier, DecisionTreeRegressor\n",
        "from sklearn.metrics import accuracy_score, classification_report, mean_squared_error\n",
        "from sklearn.preprocessing import LabelEncoder\n",
        "\n",
        "penguins = pd.read_csv(\"https://raw.githubusercontent.com/mwaskom/seaborn-data/master/penguins.csv\")\n",
        "\n",
        "penguins.dropna(inplace=True)\n",
        "\n",
        "label_encoders = {}\n",
        "for column in penguins.select_dtypes(include=['object']).columns:\n",
        "    label_encoders[column] = LabelEncoder()\n",
        "    penguins[column] = label_encoders[column].fit_transform(penguins[column])\n",
        "\n",
        "X_penguins = penguins.drop(\"species\", axis=1)\n",
        "y_penguins = penguins[\"species\"]\n",
        "\n",
        "X_penguins_train, X_penguins_test, y_penguins_train, y_penguins_test = train_test_split(\n",
        "    X_penguins, y_penguins, test_size=0.2, random_state=42\n",
        ")\n",
        "\n",
        "dt_clf = DecisionTreeClassifier(random_state=42)\n",
        "dt_clf.fit(X_penguins_train, y_penguins_train)\n",
        "y_penguins_pred = dt_clf.predict(X_penguins_test)\n",
        "\n",
        "print(\"Метрики классификации (пингвины):\")\n",
        "print(classification_report(y_penguins_test, y_penguins_pred))\n"
      ]
    },
    {
      "cell_type": "markdown",
      "id": "8e22e40b",
      "metadata": {
        "id": "8e22e40b"
      },
      "source": [
        "## Выводы"
      ]
    },
    {
      "cell_type": "markdown",
      "id": "62e613ab",
      "metadata": {
        "id": "62e613ab"
      },
      "source": [
        "1. Модели деревьев решений показывают хорошие результаты как для классификации, так и для регрессии.  \n",
        "2. Оптимизация гиперпараметров (глубина, минимальное количество узлов) значительно улучшает качество моделей.  \n",
        "3. Для задачи классификации дерево решений позволяет интерпретировать важность признаков, что полезно в реальных проектах.  \n"
      ]
    }
  ],
  "metadata": {
    "colab": {
      "provenance": []
    },
    "language_info": {
      "name": "python"
    },
    "kernelspec": {
      "name": "python3",
      "display_name": "Python 3"
    }
  },
  "nbformat": 4,
  "nbformat_minor": 5
}